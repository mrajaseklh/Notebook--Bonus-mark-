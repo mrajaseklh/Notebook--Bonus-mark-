{
 "cells": [
  {
   "cell_type": "markdown",
   "metadata": {},
   "source": [
    "# Python tutorial examples"
   ]
  },
  {
   "cell_type": "code",
   "execution_count": 7,
   "metadata": {},
   "outputs": [
    {
     "name": "stdout",
     "output_type": "stream",
     "text": [
      "\n",
      " BioData \n",
      "I am Manikandan Rajasekaran pursuing masters in electrical engineeringFrom indiaThis is my first program in python\n"
     ]
    }
   ],
   "source": [
    "info1='I am Manikandan Rajasekaran'\n",
    "info2=\" pursuing masters in electrical engineering\"\n",
    "info3='From india'\n",
    "info4='This is my first program in python'\n",
    "print('\\n BioData \\n'+info1+info2+info3+info4)\n"
   ]
  },
  {
   "cell_type": "markdown",
   "metadata": {},
   "source": [
    "## Python List"
   ]
  },
  {
   "cell_type": "code",
   "execution_count": 10,
   "metadata": {},
   "outputs": [
    {
     "name": "stdout",
     "output_type": "stream",
     "text": [
      "['abcd', 786, 2.23, 'john', 70.2]\n",
      "abcd\n",
      "[786, 2.23]\n",
      "[2.23, 'john', 70.2]\n",
      "[24, 'kp', 24, 'kp', 24, 'kp']\n",
      "['abu', 24, 5.6, 'mani', 24, 5.9, 24, 'kp', 'praveen', 24, 5.9]\n"
     ]
    }
   ],
   "source": [
    "\n",
    "list1 = [ 'abu', 24 , 5.6, 'mani', 24, 5.9 ]\n",
    "tinylist = [24, 'kp']\n",
    "list2 = [ 'praveen' , 24, 5.9 ]\n",
    "print list          # Prints complete list\n",
    "print list[0]       # Prints first element of the list\n",
    "print list[1:3]     # Prints elements starting from 2nd till 3rd \n",
    "print list[2:]      # Prints elements starting from 3rd element\n",
    "print tinylist * 3  # Prints list two times\n",
    "print list1 + tinylist + list2 # Prints concatenated lists"
   ]
  },
  {
   "cell_type": "markdown",
   "metadata": {},
   "source": [
    "## Python Tuples\n",
    "     The main differences between lists and tuples are \n",
    "     1. Lists are enclosed in brackets ( [ ] ) and their elements and size can be changed, while tuples are enclosed in parentheses ( ( ) ) and cannot be updated"
   ]
  },
  {
   "cell_type": "code",
   "execution_count": 15,
   "metadata": {},
   "outputs": [
    {
     "name": "stdout",
     "output_type": "stream",
     "text": [
      "('manikandan', 111, 1.568, 'ashley', 26.2)\n",
      "manikandan\n",
      "(111, 1.568)\n",
      "(1.568, 'ashley', 26.2)\n",
      "(256, 'jack', 256, 'jack')\n",
      "('manikandan', 111, 1.568, 'ashley', 26.2, 256, 'jack')\n"
     ]
    }
   ],
   "source": [
    "tuple = ( 'manikandan', 111 , 1.568, 'ashley', 26.2  )\n",
    "tinytuple = (256, 'jack')\n",
    "\n",
    "print tuple           # Prints complete list\n",
    "print tuple[0]        # Prints first element of the list\n",
    "print tuple[1:3]      # Prints elements starting from 2nd till 3rd \n",
    "print tuple[2:]       # Prints elements starting from 3rd element\n",
    "print tinytuple * 2   # Prints list two times\n",
    "print tuple + tinytuple # Prints concatenated lists"
   ]
  },
  {
   "cell_type": "markdown",
   "metadata": {},
   "source": [
    "## Python Decision making\n",
    "      \n",
    "      Decision making is anticipation of conditions occurring while execution of the program and specifying actions taken according to the conditions. There are there decision making statements\n",
    "       1. if statement\n",
    "       2. if- else statement\n",
    "       3. nested if statement"
   ]
  },
  {
   "cell_type": "code",
   "execution_count": 16,
   "metadata": {},
   "outputs": [
    {
     "name": "stdout",
     "output_type": "stream",
     "text": [
      "Value of expression is 50\n",
      "Have a good day\n"
     ]
    }
   ],
   "source": [
    "var = 50\n",
    "if ( var == 50 ) : print \"Value of expression is 50\"\n",
    "print \"Have a good day\""
   ]
  },
  {
   "cell_type": "code",
   "execution_count": 20,
   "metadata": {},
   "outputs": [
    {
     "name": "stdout",
     "output_type": "stream",
     "text": [
      "('The largest number between', 10, 14, 'and', 12, 'is', 14)\n"
     ]
    }
   ],
   "source": [
    "a1 = 10\n",
    "a2 = 14\n",
    "a3 = 12\n",
    "\n",
    "\n",
    "\n",
    "if (a1 >= a2) and (a1 >= a3):\n",
    "   largest = a1\n",
    "elif (a2 >= a1) and (a2 >= a3):\n",
    "   largest = a2\n",
    "else:\n",
    "   largest = a3\n",
    "\n",
    "print(\"The largest number between\",a1,a2,\"and\",a3,\"is\",largest)"
   ]
  },
  {
   "cell_type": "markdown",
   "metadata": {},
   "source": [
    "## Python looping \n",
    "     A loop statement allows us to execute a statement or group of statements multiple times and there are three type of loop\n",
    "     \n",
    "       1. While Loop\n",
    "       2. for loop\n",
    "       3. nested loop"
   ]
  },
  {
   "cell_type": "code",
   "execution_count": 21,
   "metadata": {},
   "outputs": [
    {
     "name": "stdout",
     "output_type": "stream",
     "text": [
      "('The sum is', 120)\n"
     ]
    }
   ],
   "source": [
    "var = 15\n",
    "\n",
    "if var < 0:\n",
    "   print(\"Enter a positive number\")\n",
    "else:\n",
    "   sum = 0\n",
    "   # use while loop to iterate un till zero\n",
    "   while(var > 0):\n",
    "       sum += var\n",
    "       var -= 1\n",
    "   print(\"The sum is\",sum)"
   ]
  },
  {
   "cell_type": "code",
   "execution_count": null,
   "metadata": {
    "collapsed": true
   },
   "outputs": [],
   "source": []
  }
 ],
 "metadata": {
  "kernelspec": {
   "display_name": "Python 2",
   "language": "python",
   "name": "python2"
  },
  "language_info": {
   "codemirror_mode": {
    "name": "ipython",
    "version": 2
   },
   "file_extension": ".py",
   "mimetype": "text/x-python",
   "name": "python",
   "nbconvert_exporter": "python",
   "pygments_lexer": "ipython2",
   "version": "2.7.13"
  }
 },
 "nbformat": 4,
 "nbformat_minor": 2
}
